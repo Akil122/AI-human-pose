{
  "nbformat": 4,
  "nbformat_minor": 0,
  "metadata": {
    "colab": {
      "provenance": [],
      "toc_visible": true
    },
    "kernelspec": {
      "name": "python3",
      "display_name": "Python 3"
    },
    "language_info": {
      "name": "python"
    }
  },
  "cells": [
    {
      "cell_type": "code",
      "execution_count": null,
      "metadata": {
        "id": "wrYxNpezV-VX",
        "colab": {
          "base_uri": "https://localhost:8080/",
          "height": 446
        },
        "outputId": "5f0d4cf0-694d-41bd-d7e8-b9c408df3fe3"
      },
      "outputs": [
        {
          "output_type": "error",
          "ename": "ModuleNotFoundError",
          "evalue": "No module named 'mediapipe'",
          "traceback": [
            "\u001b[0;31m---------------------------------------------------------------------------\u001b[0m",
            "\u001b[0;31mModuleNotFoundError\u001b[0m                       Traceback (most recent call last)",
            "\u001b[0;32m<ipython-input-3-559b6ec207bb>\u001b[0m in \u001b[0;36m<cell line: 2>\u001b[0;34m()\u001b[0m\n\u001b[1;32m      1\u001b[0m \u001b[0;32mimport\u001b[0m \u001b[0mcv2\u001b[0m\u001b[0;34m\u001b[0m\u001b[0;34m\u001b[0m\u001b[0m\n\u001b[0;32m----> 2\u001b[0;31m \u001b[0;32mimport\u001b[0m \u001b[0mmediapipe\u001b[0m \u001b[0;32mas\u001b[0m \u001b[0mmp\u001b[0m\u001b[0;34m\u001b[0m\u001b[0;34m\u001b[0m\u001b[0m\n\u001b[0m\u001b[1;32m      3\u001b[0m \u001b[0;32mimport\u001b[0m \u001b[0mnumpy\u001b[0m \u001b[0;32mas\u001b[0m \u001b[0mnp\u001b[0m\u001b[0;34m\u001b[0m\u001b[0;34m\u001b[0m\u001b[0m\n\u001b[1;32m      4\u001b[0m \u001b[0;34m\u001b[0m\u001b[0m\n\u001b[1;32m      5\u001b[0m \u001b[0;31m# Initialize MediaPipe Pose\u001b[0m\u001b[0;34m\u001b[0m\u001b[0;34m\u001b[0m\u001b[0m\n",
            "\u001b[0;31mModuleNotFoundError\u001b[0m: No module named 'mediapipe'",
            "",
            "\u001b[0;31m---------------------------------------------------------------------------\u001b[0;32m\nNOTE: If your import is failing due to a missing package, you can\nmanually install dependencies using either !pip or !apt.\n\nTo view examples of installing some common dependencies, click the\n\"Open Examples\" button below.\n\u001b[0;31m---------------------------------------------------------------------------\u001b[0m\n"
          ],
          "errorDetails": {
            "actions": [
              {
                "action": "open_url",
                "actionText": "Open Examples",
                "url": "/notebooks/snippets/importing_libraries.ipynb"
              }
            ]
          }
        }
      ],
      "source": [
        "import cv2\n",
        "import mediapipe as mp\n",
        "import numpy as np\n",
        "\n",
        "# Initialize MediaPipe Pose\n",
        "mp_pose = mp.solutions.pose\n",
        "pose = mp_pose.Pose(static_image_mode=False, model_complexity=1, min_detection_confidence=0.5, min_tracking_confidence=0.5)\n",
        "mp_drawing = mp.solutions.drawing_utils\n",
        "\n",
        "# Load user video\n",
        "cap_user = cv2.VideoCapture('cap.mp4')  # Replace with user video path\n",
        "\n",
        "# Reference angles (these should ideally be extracted from a reference pose or set manually)\n",
        "reference_angles = {\n",
        "    \"left_elbow\": 90.0,  # Example angle, replace with actual reference values\n",
        "    \"right_elbow\": 90.0,\n",
        "    \"left_shoulder\": 45.0,\n",
        "    \"right_shoulder\": 45.0\n",
        "}\n",
        "\n",
        "def calculate_angle(a, b, c):\n",
        "    \"\"\"Calculate the angle between three points (a, b, c) with b as the vertex.\"\"\"\n",
        "    a = np.array([a.x, a.y])\n",
        "    b = np.array([b.x, b.y])\n",
        "    c = np.array([c.x, c.y])\n",
        "\n",
        "    radians = np.arctan2(c[1] - b[1], c[0] - b[0]) - np.arctan2(a[1] - b[1], a[0] - b[0])\n",
        "    angle = np.abs(radians * 180.0 / np.pi)\n",
        "    return angle if angle <= 180.0 else 360.0 - angle\n",
        "\n",
        "def get_pose_angles(landmarks):\n",
        "    \"\"\"Calculate relevant angles for pose comparison.\"\"\"\n",
        "    left_elbow_angle = calculate_angle(\n",
        "        landmarks[mp_pose.PoseLandmark.LEFT_SHOULDER],\n",
        "        landmarks[mp_pose.PoseLandmark.LEFT_ELBOW],\n",
        "        landmarks[mp_pose.PoseLandmark.LEFT_WRIST]\n",
        "    )\n",
        "    right_elbow_angle = calculate_angle(\n",
        "        landmarks[mp_pose.PoseLandmark.RIGHT_SHOULDER],\n",
        "        landmarks[mp_pose.PoseLandmark.RIGHT_ELBOW],\n",
        "        landmarks[mp_pose.PoseLandmark.RIGHT_WRIST]\n",
        "    )\n",
        "    left_shoulder_angle = calculate_angle(\n",
        "        landmarks[mp_pose.PoseLandmark.LEFT_HIP],\n",
        "        landmarks[mp_pose.PoseLandmark.LEFT_SHOULDER],\n",
        "        landmarks[mp_pose.PoseLandmark.LEFT_ELBOW]\n",
        "    )\n",
        "    right_shoulder_angle = calculate_angle(\n",
        "        landmarks[mp_pose.PoseLandmark.RIGHT_HIP],\n",
        "        landmarks[mp_pose.PoseLandmark.RIGHT_SHOULDER],\n",
        "        landmarks[mp_pose.PoseLandmark.RIGHT_ELBOW]\n",
        "    )\n",
        "    return {\n",
        "        \"left_elbow\": left_elbow_angle,\n",
        "        \"right_elbow\": right_elbow_angle,\n",
        "        \"left_shoulder\": left_shoulder_angle,\n",
        "        \"right_shoulder\": right_shoulder_angle\n",
        "    }\n",
        "\n",
        "while cap_user.isOpened():\n",
        "    success_user, frame_user = cap_user.read()\n",
        "\n",
        "    if not success_user:\n",
        "        break\n",
        "\n",
        "    # Pose Detection for user video\n",
        "    frame_user_rgb = cv2.cvtColor(frame_user, cv2.COLOR_BGR2RGB)\n",
        "    results_user = pose.process(frame_user_rgb)\n",
        "    frame_user_bgr = cv2.cvtColor(frame_user_rgb, cv2.COLOR_RGB2BGR)\n",
        "\n",
        "    # Check if landmarks are detected in the user video\n",
        "    if results_user.pose_landmarks:\n",
        "        mp_drawing.draw_landmarks(frame_user_bgr, results_user.pose_landmarks, mp_pose.POSE_CONNECTIONS)\n",
        "\n",
        "        # Get angles for the user pose\n",
        "        user_angles = get_pose_angles(results_user.pose_landmarks.landmark)\n",
        "\n",
        "        # Calculate angle differences and provide feedback if needed\n",
        "        feedback = []\n",
        "        threshold = 10.0  # Angle difference threshold for feedback\n",
        "\n",
        "        for joint, ref_angle in reference_angles.items():\n",
        "            user_angle = user_angles[joint]\n",
        "            angle_diff = abs(ref_angle - user_angle)\n",
        "\n",
        "            # Check if the angle difference exceeds threshold\n",
        "            if angle_diff > threshold:\n",
        "                feedback.append(f\"Adjust your {joint.replace('_', ' ')} by {angle_diff:.2f}°.\")\n",
        "\n",
        "            # Display angle values on user frame\n",
        "            user_position = (10, 30 * list(user_angles.keys()).index(joint) + 20)\n",
        "            cv2.putText(frame_user_bgr, f\"{joint}: {user_angle:.2f}°\", user_position,\n",
        "                        cv2.FONT_HERSHEY_SIMPLEX, 0.5, (0, 255, 0), 2, cv2.LINE_AA)\n",
        "\n",
        "        # Display feedback on user video\n",
        "        for i, text in enumerate(feedback, start=1):\n",
        "            cv2.putText(frame_user_bgr, text, (10, 30 * i + 120), cv2.FONT_HERSHEY_SIMPLEX, 0.5, (0, 0, 255), 2, cv2.LINE_AA)\n",
        "\n",
        "    # Show user video with feedback\n",
        "    cv2.imshow('User Pose with Feedback', frame_user_bgr)\n",
        "\n",
        "    if cv2.waitKey(10) & 0xFF == ord('q'):\n",
        "        break\n",
        "\n",
        "# Release resources\n",
        "cap_user.release()\n",
        "cv2.destroyAllWindows()\n",
        "pose.close()"
      ]
    }
  ]
}