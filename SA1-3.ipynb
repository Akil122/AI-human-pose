{
  "nbformat": 4,
  "nbformat_minor": 0,
  "metadata": {
    "colab": {
      "provenance": []
    },
    "kernelspec": {
      "name": "python3",
      "display_name": "Python 3"
    },
    "language_info": {
      "name": "python"
    }
  },
  "cells": [
    {
      "cell_type": "code",
      "execution_count": 9,
      "metadata": {
        "id": "wrYxNpezV-VX",
        "colab": {
          "base_uri": "https://localhost:8080/",
          "height": 497
        },
        "outputId": "9ff8361f-6516-4232-e380-de8943175d1e"
      },
      "outputs": [
        {
          "output_type": "error",
          "ename": "DisabledFunctionError",
          "evalue": "cv2.imshow() is disabled in Colab, because it causes Jupyter sessions\nto crash; see https://github.com/jupyter/notebook/issues/3935.\nAs a substitution, consider using\n  from google.colab.patches import cv2_imshow\n",
          "traceback": [
            "\u001b[0;31m---------------------------------------------------------------------------\u001b[0m",
            "\u001b[0;31mDisabledFunctionError\u001b[0m                     Traceback (most recent call last)",
            "\u001b[0;32m<ipython-input-9-678b155fefa6>\u001b[0m in \u001b[0;36m<cell line: 60>\u001b[0;34m()\u001b[0m\n\u001b[1;32m     90\u001b[0m             \u001b[0mcv2\u001b[0m\u001b[0;34m.\u001b[0m\u001b[0mputText\u001b[0m\u001b[0;34m(\u001b[0m\u001b[0mframe_user_bgr\u001b[0m\u001b[0;34m,\u001b[0m \u001b[0mtext\u001b[0m\u001b[0;34m,\u001b[0m \u001b[0;34m(\u001b[0m\u001b[0;36m10\u001b[0m\u001b[0;34m,\u001b[0m \u001b[0;36m30\u001b[0m \u001b[0;34m*\u001b[0m \u001b[0mi\u001b[0m \u001b[0;34m+\u001b[0m \u001b[0;36m120\u001b[0m\u001b[0;34m)\u001b[0m\u001b[0;34m,\u001b[0m \u001b[0mcv2\u001b[0m\u001b[0;34m.\u001b[0m\u001b[0mFONT_HERSHEY_SIMPLEX\u001b[0m\u001b[0;34m,\u001b[0m \u001b[0;36m0.5\u001b[0m\u001b[0;34m,\u001b[0m \u001b[0;34m(\u001b[0m\u001b[0;36m0\u001b[0m\u001b[0;34m,\u001b[0m \u001b[0;36m0\u001b[0m\u001b[0;34m,\u001b[0m \u001b[0;36m255\u001b[0m\u001b[0;34m)\u001b[0m\u001b[0;34m,\u001b[0m \u001b[0;36m2\u001b[0m\u001b[0;34m,\u001b[0m \u001b[0mcv2\u001b[0m\u001b[0;34m.\u001b[0m\u001b[0mLINE_AA\u001b[0m\u001b[0;34m)\u001b[0m\u001b[0;34m\u001b[0m\u001b[0;34m\u001b[0m\u001b[0m\n\u001b[1;32m     91\u001b[0m \u001b[0;34m\u001b[0m\u001b[0m\n\u001b[0;32m---> 92\u001b[0;31m     \u001b[0mcv2\u001b[0m\u001b[0;34m.\u001b[0m\u001b[0mimshow\u001b[0m\u001b[0;34m(\u001b[0m\u001b[0;34m'User Pose with Feedback'\u001b[0m\u001b[0;34m,\u001b[0m \u001b[0mframe_user_bgr\u001b[0m\u001b[0;34m)\u001b[0m\u001b[0;34m\u001b[0m\u001b[0;34m\u001b[0m\u001b[0m\n\u001b[0m\u001b[1;32m     93\u001b[0m \u001b[0;34m\u001b[0m\u001b[0m\n\u001b[1;32m     94\u001b[0m     \u001b[0;32mif\u001b[0m \u001b[0mcv2\u001b[0m\u001b[0;34m.\u001b[0m\u001b[0mwaitKey\u001b[0m\u001b[0;34m(\u001b[0m\u001b[0;36m10\u001b[0m\u001b[0;34m)\u001b[0m \u001b[0;34m&\u001b[0m \u001b[0;36m0xFF\u001b[0m \u001b[0;34m==\u001b[0m \u001b[0mord\u001b[0m\u001b[0;34m(\u001b[0m\u001b[0;34m'q'\u001b[0m\u001b[0;34m)\u001b[0m\u001b[0;34m:\u001b[0m\u001b[0;34m\u001b[0m\u001b[0;34m\u001b[0m\u001b[0m\n",
            "\u001b[0;32m/usr/local/lib/python3.10/dist-packages/google/colab/_import_hooks/_cv2.py\u001b[0m in \u001b[0;36mwrapped\u001b[0;34m(*args, **kwargs)\u001b[0m\n\u001b[1;32m     46\u001b[0m   \u001b[0;32mdef\u001b[0m \u001b[0mwrapped\u001b[0m\u001b[0;34m(\u001b[0m\u001b[0;34m*\u001b[0m\u001b[0margs\u001b[0m\u001b[0;34m,\u001b[0m \u001b[0;34m**\u001b[0m\u001b[0mkwargs\u001b[0m\u001b[0;34m)\u001b[0m\u001b[0;34m:\u001b[0m\u001b[0;34m\u001b[0m\u001b[0;34m\u001b[0m\u001b[0m\n\u001b[1;32m     47\u001b[0m     \u001b[0;32mif\u001b[0m \u001b[0;32mnot\u001b[0m \u001b[0mos\u001b[0m\u001b[0;34m.\u001b[0m\u001b[0menviron\u001b[0m\u001b[0;34m.\u001b[0m\u001b[0mget\u001b[0m\u001b[0;34m(\u001b[0m\u001b[0menv_var\u001b[0m\u001b[0;34m,\u001b[0m \u001b[0;32mFalse\u001b[0m\u001b[0;34m)\u001b[0m\u001b[0;34m:\u001b[0m\u001b[0;34m\u001b[0m\u001b[0;34m\u001b[0m\u001b[0m\n\u001b[0;32m---> 48\u001b[0;31m       \u001b[0;32mraise\u001b[0m \u001b[0mDisabledFunctionError\u001b[0m\u001b[0;34m(\u001b[0m\u001b[0mmessage\u001b[0m\u001b[0;34m,\u001b[0m \u001b[0mname\u001b[0m \u001b[0;32mor\u001b[0m \u001b[0mfunc\u001b[0m\u001b[0;34m.\u001b[0m\u001b[0m__name__\u001b[0m\u001b[0;34m)\u001b[0m\u001b[0;34m\u001b[0m\u001b[0;34m\u001b[0m\u001b[0m\n\u001b[0m\u001b[1;32m     49\u001b[0m     \u001b[0;32mreturn\u001b[0m \u001b[0mfunc\u001b[0m\u001b[0;34m(\u001b[0m\u001b[0;34m*\u001b[0m\u001b[0margs\u001b[0m\u001b[0;34m,\u001b[0m \u001b[0;34m**\u001b[0m\u001b[0mkwargs\u001b[0m\u001b[0;34m)\u001b[0m\u001b[0;34m\u001b[0m\u001b[0;34m\u001b[0m\u001b[0m\n\u001b[1;32m     50\u001b[0m \u001b[0;34m\u001b[0m\u001b[0m\n",
            "\u001b[0;31mDisabledFunctionError\u001b[0m: cv2.imshow() is disabled in Colab, because it causes Jupyter sessions\nto crash; see https://github.com/jupyter/notebook/issues/3935.\nAs a substitution, consider using\n  from google.colab.patches import cv2_imshow\n"
          ],
          "errorDetails": {
            "actions": [
              {
                "action": "open_snippet",
                "actionText": "Search Snippets for cv2.imshow",
                "snippetFilter": "cv2.imshow"
              }
            ]
          }
        }
      ],
      "source": [
        "import cv2\n",
        "import mediapipe as mp\n",
        "import numpy as np\n",
        "\n",
        "mp_pose = mp.solutions.pose\n",
        "pose = mp_pose.Pose(static_image_mode=False, model_complexity=1, min_detection_confidence=0.5, min_tracking_confidence=0.5)\n",
        "mp_drawing = mp.solutions.drawing_utils\n",
        "\n",
        "cap_user = cv2.VideoCapture('cap.mp4')\n",
        "\n",
        "reference_angles = {\n",
        "    \"left_elbow\": 90.0,\n",
        "    \"right_elbow\": 90.0,\n",
        "    \"left_shoulder\": 45.0,\n",
        "    \"right_shoulder\": 45.0\n",
        "}\n",
        "\n",
        "def calculate_angle(a, b, c):\n",
        "    \"\"\"Calculate the angle between three points (a, b, c) with b as the vertex.\"\"\"\n",
        "    a = np.array([a.x, a.y])\n",
        "    b = np.array([b.x, b.y])\n",
        "    c = np.array([c.x, c.y])\n",
        "\n",
        "    radians = np.arctan2(c[1] - b[1], c[0] - b[0]) - np.arctan2(a[1] - b[1], a[0] - b[0])\n",
        "    angle = np.abs(radians * 180.0 / np.pi)\n",
        "    return angle if angle <= 180.0 else 360.0 - angle\n",
        "\n",
        "def get_pose_angles(landmarks):\n",
        "    \"\"\"Calculate relevant angles for pose comparison.\"\"\"\n",
        "    left_elbow_angle = calculate_angle(\n",
        "        landmarks[mp_pose.PoseLandmark.LEFT_SHOULDER],\n",
        "        landmarks[mp_pose.PoseLandmark.LEFT_ELBOW],\n",
        "        landmarks[mp_pose.PoseLandmark.LEFT_WRIST]\n",
        "    )\n",
        "    right_elbow_angle = calculate_angle(\n",
        "        landmarks[mp_pose.PoseLandmark.RIGHT_SHOULDER],\n",
        "        landmarks[mp_pose.PoseLandmark.RIGHT_ELBOW],\n",
        "        landmarks[mp_pose.PoseLandmark.RIGHT_WRIST]\n",
        "    )\n",
        "    left_shoulder_angle = calculate_angle(\n",
        "        landmarks[mp_pose.PoseLandmark.LEFT_HIP],\n",
        "        landmarks[mp_pose.PoseLandmark.LEFT_SHOULDER],\n",
        "        landmarks[mp_pose.PoseLandmark.LEFT_ELBOW]\n",
        "    )\n",
        "    right_shoulder_angle = calculate_angle(\n",
        "        landmarks[mp_pose.PoseLandmark.RIGHT_HIP],\n",
        "        landmarks[mp_pose.PoseLandmark.RIGHT_SHOULDER],\n",
        "        landmarks[mp_pose.PoseLandmark.RIGHT_ELBOW]\n",
        "    )\n",
        "    return {\n",
        "        \"left_elbow\": left_elbow_angle,\n",
        "        \"right_elbow\": right_elbow_angle,\n",
        "        \"left_shoulder\": left_shoulder_angle,\n",
        "        \"right_shoulder\": right_shoulder_angle\n",
        "    }\n",
        "\n",
        "while cap_user.isOpened():\n",
        "    success_user, frame_user = cap_user.read()\n",
        "\n",
        "    if not success_user:\n",
        "        break\n",
        "\n",
        "    frame_user_rgb = cv2.cvtColor(frame_user, cv2.COLOR_BGR2RGB)\n",
        "    results_user = pose.process(frame_user_rgb)\n",
        "    frame_user_bgr = cv2.cvtColor(frame_user_rgb, cv2.COLOR_RGB2BGR)\n",
        "\n",
        "    if results_user.pose_landmarks:\n",
        "        mp_drawing.draw_landmarks(frame_user_bgr, results_user.pose_landmarks, mp_pose.POSE_CONNECTIONS)\n",
        "\n",
        "        user_angles = get_pose_angles(results_user.pose_landmarks.landmark)\n",
        "\n",
        "        feedback = []\n",
        "        threshold = 10.0\n",
        "\n",
        "        for joint, ref_angle in reference_angles.items():\n",
        "            user_angle = user_angles[joint]\n",
        "            angle_diff = abs(ref_angle - user_angle)\n",
        "\n",
        "            if angle_diff > threshold:\n",
        "                feedback.append(f\"Adjust your {joint.replace('_', ' ')} by {angle_diff:.2f}°.\")\n",
        "\n",
        "            user_position = (10, 30 * list(user_angles.keys()).index(joint) + 20)\n",
        "            cv2.putText(frame_user_bgr, f\"{joint}: {user_angle:.2f}°\", user_position,\n",
        "                        cv2.FONT_HERSHEY_SIMPLEX, 0.5, (0, 255, 0), 2, cv2.LINE_AA)\n",
        "\n",
        "        for i, text in enumerate(feedback, start=1):\n",
        "            cv2.putText(frame_user_bgr, text, (10, 30 * i + 120), cv2.FONT_HERSHEY_SIMPLEX, 0.5, (0, 0, 255), 2, cv2.LINE_AA)\n",
        "\n",
        "    cv2.imshow('User Pose with Feedback', frame_user_bgr)\n",
        "\n",
        "    if cv2.waitKey(10) & 0xFF == ord('q'):\n",
        "        break\n",
        "\n",
        "cap_user.release()\n",
        "cv2.destroyAllWindows()\n",
        "pose.close()\n"
      ]
    }
  ]
}